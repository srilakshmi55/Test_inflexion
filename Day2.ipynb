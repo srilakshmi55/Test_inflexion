{
 "cells": [
  {
   "cell_type": "code",
   "execution_count": 1,
   "id": "97656dc4",
   "metadata": {},
   "outputs": [
    {
     "name": "stderr",
     "output_type": "stream",
     "text": [
      "[nltk_data] Downloading package stopwords to\n",
      "[nltk_data]     C:\\Users\\Srilakshmi\\AppData\\Roaming\\nltk_data...\n",
      "[nltk_data]   Package stopwords is already up-to-date!\n"
     ]
    },
    {
     "data": {
      "text/plain": [
       "True"
      ]
     },
     "execution_count": 1,
     "metadata": {},
     "output_type": "execute_result"
    }
   ],
   "source": [
    "import nltk\n",
    "import string\n",
    "import math\n",
    "\n",
    "nltk.download('stopwords')"
   ]
  },
  {
   "cell_type": "code",
   "execution_count": 2,
   "id": "3ea87ffb",
   "metadata": {},
   "outputs": [],
   "source": [
    "# Tokenize the text into sentences\n",
    "text = \"If a connection is found then immunization might be a help. It would at best be related to only a small fraction of heart attacks so it is clear that there will never be vaccine to stop heart attacks..\"\n",
    "sentences = nltk.sent_tokenize(text)"
   ]
  },
  {
   "cell_type": "code",
   "execution_count": 3,
   "id": "c289e1b8",
   "metadata": {},
   "outputs": [],
   "source": [
    "# Remove stop words and punctuation marks from each sentence\n",
    "stop_words = nltk.corpus.stopwords.words('english')\n",
    "table = str.maketrans('', '', string.punctuation)"
   ]
  },
  {
   "cell_type": "code",
   "execution_count": 4,
   "id": "9debbf26",
   "metadata": {},
   "outputs": [],
   "source": [
    "cleaned_sentences = []\n",
    "for sentence in sentences:\n",
    "    tokens = nltk.word_tokenize(sentence.lower())\n",
    "    tokens = [token.translate(table) for token in tokens]\n",
    "    words = [word for word in tokens if word.isalpha() and word not in stop_words]\n",
    "    cleaned_sentences.append(' '.join(words))"
   ]
  },
  {
   "cell_type": "code",
   "execution_count": 5,
   "id": "ce230eba",
   "metadata": {},
   "outputs": [],
   "source": [
    "# Calculate the entropy of each sentence\n",
    "entropies = [sum(-p * math.log2(p) for p in (cleaned_sentences[i].count(c) / len(cleaned_sentences[i]) for c in set(cleaned_sentences[i]))) for i in range(len(cleaned_sentences))]"
   ]
  },
  {
   "cell_type": "code",
   "execution_count": 6,
   "id": "3b8c372f",
   "metadata": {},
   "outputs": [],
   "source": [
    "# Sort the sentences in descending order of their entropy\n",
    "sorted_sentences = [sentence for _, sentence in sorted(zip(entropies, sentences), reverse=True)]"
   ]
  },
  {
   "cell_type": "code",
   "execution_count": 7,
   "id": "1c2e777a",
   "metadata": {},
   "outputs": [
    {
     "name": "stdout",
     "output_type": "stream",
     "text": [
      "It would at best be related to only a small fraction of heart attacks so it is clear that there will never be vaccine to stop heart attacks..\n",
      "If a connection is found then immunization might be a help.\n"
     ]
    }
   ],
   "source": [
    "# Output the sorted sentences\n",
    "for sentence in sorted_sentences:\n",
    "    print(sentence)"
   ]
  },
  {
   "cell_type": "code",
   "execution_count": null,
   "id": "d7e948bc",
   "metadata": {},
   "outputs": [],
   "source": []
  }
 ],
 "metadata": {
  "kernelspec": {
   "display_name": "Python 3 (ipykernel)",
   "language": "python",
   "name": "python3"
  },
  "language_info": {
   "codemirror_mode": {
    "name": "ipython",
    "version": 3
   },
   "file_extension": ".py",
   "mimetype": "text/x-python",
   "name": "python",
   "nbconvert_exporter": "python",
   "pygments_lexer": "ipython3",
   "version": "3.9.13"
  }
 },
 "nbformat": 4,
 "nbformat_minor": 5
}
