{
 "cells": [
  {
   "cell_type": "markdown",
   "id": "96671405",
   "metadata": {},
   "source": [
    "#        Task_3"
   ]
  },
  {
   "cell_type": "markdown",
   "id": "ce0e7b92",
   "metadata": {},
   "source": [
    "Sentence Combination\n",
    "Implement a program in Python that combines two sentences into one, retaining the information from both sentences. The combined sentence should preserve the meaning and context of both input sentences."
   ]
  },
  {
   "cell_type": "code",
   "execution_count": 1,
   "id": "d9e6e8c8",
   "metadata": {},
   "outputs": [],
   "source": [
    "import spacy\n",
    "nlp = spacy.load(\"en_core_web_sm\")"
   ]
  },
  {
   "cell_type": "code",
   "execution_count": 2,
   "id": "74a6c02e",
   "metadata": {},
   "outputs": [],
   "source": [
    "# Example sentences\n",
    "s1 = \"I enjoy reading books.\"\n",
    "s2 = \"Reading helps me relax.\""
   ]
  },
  {
   "cell_type": "code",
   "execution_count": 3,
   "id": "3dbb81d0",
   "metadata": {},
   "outputs": [],
   "source": [
    "# Parse the sentences using spaCy\n",
    "doc1 = nlp(s1)\n",
    "doc2 = nlp(s2)"
   ]
  },
  {
   "cell_type": "code",
   "execution_count": 4,
   "id": "21482820",
   "metadata": {},
   "outputs": [],
   "source": [
    "# Find the root verb of each sentence\n",
    "verb1 = [token for token in doc1 if token.head == token][0]\n",
    "verb2 = [token for token in doc2 if token.head == token][0]"
   ]
  },
  {
   "cell_type": "code",
   "execution_count": 5,
   "id": "fbebe440",
   "metadata": {},
   "outputs": [],
   "source": [
    "# Identify the relationship between the verbs\n",
    "if verb2 == verb1:\n",
    "    # If the verbs are the same, concatenate the sentences\n",
    "    combined_sentence = s1 + \" \" + s2[verb2.idx+len(verb2.text):]\n",
    "elif verb2 in list(verb1.children):\n",
    "    # If the second verb is a child of the first verb, append the second sentence to the first sentence\n",
    "    combined_sentence = s1 + \" \" + s2[verb2.idx+len(verb2.text):]\n",
    "else:\n",
    "    # Otherwise, connect the two sentences with a coordinating conjunction\n",
    "    combined_sentence = s1 + \" and \" + s2"
   ]
  },
  {
   "cell_type": "code",
   "execution_count": 6,
   "id": "70176a29",
   "metadata": {},
   "outputs": [
    {
     "name": "stdout",
     "output_type": "stream",
     "text": [
      "I enjoy reading books. and Reading helps me relax.\n"
     ]
    }
   ],
   "source": [
    "print(combined_sentence)"
   ]
  },
  {
   "cell_type": "code",
   "execution_count": null,
   "id": "79ecd6b0",
   "metadata": {},
   "outputs": [],
   "source": []
  }
 ],
 "metadata": {
  "kernelspec": {
   "display_name": "Python 3 (ipykernel)",
   "language": "python",
   "name": "python3"
  },
  "language_info": {
   "codemirror_mode": {
    "name": "ipython",
    "version": 3
   },
   "file_extension": ".py",
   "mimetype": "text/x-python",
   "name": "python",
   "nbconvert_exporter": "python",
   "pygments_lexer": "ipython3",
   "version": "3.9.13"
  }
 },
 "nbformat": 4,
 "nbformat_minor": 5
}
