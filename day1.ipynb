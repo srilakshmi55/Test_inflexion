{
 "cells": [
  {
   "cell_type": "code",
   "execution_count": 1,
   "id": "538a76a9",
   "metadata": {},
   "outputs": [
    {
     "data": {
      "text/plain": [
       "5"
      ]
     },
     "execution_count": 1,
     "metadata": {},
     "output_type": "execute_result"
    }
   ],
   "source": [
    "def lengthOfLongestSubstring(s):\n",
    "      # Checking if the string is unique\n",
    "        if len(set(s)) == len(s):                     \n",
    "            return len(s)\n",
    "        substring = ''\n",
    "        maxLen = 1\n",
    "        for i in s:\n",
    "             #  if its not in substring we add it to the substring\n",
    "            if i not in substring:                     \n",
    "                substring = substring + i\n",
    "                # We update the maxlength if our substring\n",
    "                maxLen = max(maxLen, len(substring))   \n",
    "            else:                                       \n",
    "                substring = substring.split(i)[1] + i  \n",
    "        return maxLen\n",
    "\n",
    "lengthOfLongestSubstring('asgsstkba')"
   ]
  },
  {
   "cell_type": "code",
   "execution_count": null,
   "id": "c1de330a",
   "metadata": {},
   "outputs": [],
   "source": []
  }
 ],
 "metadata": {
  "kernelspec": {
   "display_name": "Python 3 (ipykernel)",
   "language": "python",
   "name": "python3"
  },
  "language_info": {
   "codemirror_mode": {
    "name": "ipython",
    "version": 3
   },
   "file_extension": ".py",
   "mimetype": "text/x-python",
   "name": "python",
   "nbconvert_exporter": "python",
   "pygments_lexer": "ipython3",
   "version": "3.9.13"
  }
 },
 "nbformat": 4,
 "nbformat_minor": 5
}
